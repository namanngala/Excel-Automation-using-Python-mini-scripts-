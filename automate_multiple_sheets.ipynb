{
  "nbformat": 4,
  "nbformat_minor": 0,
  "metadata": {
    "colab": {
      "name": "automate_multiple_sheets.ipynb",
      "provenance": [],
      "collapsed_sections": []
    },
    "kernelspec": {
      "name": "python3",
      "display_name": "Python 3"
    },
    "language_info": {
      "name": "python"
    }
  },
  "cells": [
    {
      "cell_type": "code",
      "metadata": {
        "id": "E-dtqdDgqs2E"
      },
      "source": [
        "import numpy as np\n",
        "import pandas as pd\n",
        "import matplotlib.pyplot as plt"
      ],
      "execution_count": 1,
      "outputs": []
    },
    {
      "cell_type": "code",
      "metadata": {
        "id": "YZeke1h2q9gp"
      },
      "source": [
        "file_1 = pd.read_excel('/content/shift-data.xlsx', sheet_name='first')\n",
        "file_2 = pd.read_excel('/content/shift-data.xlsx', sheet_name='second')\n",
        "file_3 = pd.read_excel('/content/third-shift-data.xlsx')"
      ],
      "execution_count": 2,
      "outputs": []
    },
    {
      "cell_type": "code",
      "metadata": {
        "colab": {
          "base_uri": "https://localhost:8080/",
          "height": 204
        },
        "id": "vHT2nBLJrs4c",
        "outputId": "bf83af94-213d-4fa6-c0a4-21ab8175f031"
      },
      "source": [
        "file_3.head()"
      ],
      "execution_count": 3,
      "outputs": [
        {
          "output_type": "execute_result",
          "data": {
            "text/html": [
              "<div>\n",
              "<style scoped>\n",
              "    .dataframe tbody tr th:only-of-type {\n",
              "        vertical-align: middle;\n",
              "    }\n",
              "\n",
              "    .dataframe tbody tr th {\n",
              "        vertical-align: top;\n",
              "    }\n",
              "\n",
              "    .dataframe thead th {\n",
              "        text-align: right;\n",
              "    }\n",
              "</style>\n",
              "<table border=\"1\" class=\"dataframe\">\n",
              "  <thead>\n",
              "    <tr style=\"text-align: right;\">\n",
              "      <th></th>\n",
              "      <th>Shift</th>\n",
              "      <th>Clock Number</th>\n",
              "      <th>Name</th>\n",
              "      <th>Product</th>\n",
              "      <th>Production Run Time (Min)</th>\n",
              "      <th>Products Produced (Units)</th>\n",
              "    </tr>\n",
              "  </thead>\n",
              "  <tbody>\n",
              "    <tr>\n",
              "      <th>0</th>\n",
              "      <td>3</td>\n",
              "      <td>322976</td>\n",
              "      <td>Chuck</td>\n",
              "      <td>Cheese</td>\n",
              "      <td>53</td>\n",
              "      <td>111</td>\n",
              "    </tr>\n",
              "    <tr>\n",
              "      <th>1</th>\n",
              "      <td>3</td>\n",
              "      <td>322486</td>\n",
              "      <td>Omar</td>\n",
              "      <td>Mushroom</td>\n",
              "      <td>47</td>\n",
              "      <td>117</td>\n",
              "    </tr>\n",
              "    <tr>\n",
              "      <th>2</th>\n",
              "      <td>3</td>\n",
              "      <td>322488</td>\n",
              "      <td>Gabrielle</td>\n",
              "      <td>Mushroom</td>\n",
              "      <td>46</td>\n",
              "      <td>123</td>\n",
              "    </tr>\n",
              "    <tr>\n",
              "      <th>3</th>\n",
              "      <td>3</td>\n",
              "      <td>322488</td>\n",
              "      <td>Gabrielle</td>\n",
              "      <td>Cheese</td>\n",
              "      <td>49</td>\n",
              "      <td>126</td>\n",
              "    </tr>\n",
              "    <tr>\n",
              "      <th>4</th>\n",
              "      <td>3</td>\n",
              "      <td>322231</td>\n",
              "      <td>Sara</td>\n",
              "      <td>Pepperoni</td>\n",
              "      <td>39</td>\n",
              "      <td>117</td>\n",
              "    </tr>\n",
              "  </tbody>\n",
              "</table>\n",
              "</div>"
            ],
            "text/plain": [
              "   Shift  Clock Number  ... Production Run Time (Min) Products Produced (Units)\n",
              "0      3        322976  ...                        53                       111\n",
              "1      3        322486  ...                        47                       117\n",
              "2      3        322488  ...                        46                       123\n",
              "3      3        322488  ...                        49                       126\n",
              "4      3        322231  ...                        39                       117\n",
              "\n",
              "[5 rows x 6 columns]"
            ]
          },
          "metadata": {},
          "execution_count": 3
        }
      ]
    },
    {
      "cell_type": "code",
      "metadata": {
        "colab": {
          "base_uri": "https://localhost:8080/",
          "height": 204
        },
        "id": "mva-tYolr4bO",
        "outputId": "281a6bbf-14e5-45fd-a9f6-4f91092e0d4f"
      },
      "source": [
        "df_all = pd.concat([file_1,file_2,file_3])\n",
        "df_all.head()"
      ],
      "execution_count": 4,
      "outputs": [
        {
          "output_type": "execute_result",
          "data": {
            "text/html": [
              "<div>\n",
              "<style scoped>\n",
              "    .dataframe tbody tr th:only-of-type {\n",
              "        vertical-align: middle;\n",
              "    }\n",
              "\n",
              "    .dataframe tbody tr th {\n",
              "        vertical-align: top;\n",
              "    }\n",
              "\n",
              "    .dataframe thead th {\n",
              "        text-align: right;\n",
              "    }\n",
              "</style>\n",
              "<table border=\"1\" class=\"dataframe\">\n",
              "  <thead>\n",
              "    <tr style=\"text-align: right;\">\n",
              "      <th></th>\n",
              "      <th>Shift</th>\n",
              "      <th>Clock Number</th>\n",
              "      <th>Name</th>\n",
              "      <th>Product</th>\n",
              "      <th>Production Run Time (Min)</th>\n",
              "      <th>Products Produced (Units)</th>\n",
              "    </tr>\n",
              "  </thead>\n",
              "  <tbody>\n",
              "    <tr>\n",
              "      <th>0</th>\n",
              "      <td>1</td>\n",
              "      <td>123654</td>\n",
              "      <td>Pete</td>\n",
              "      <td>Pepperoni</td>\n",
              "      <td>46</td>\n",
              "      <td>107</td>\n",
              "    </tr>\n",
              "    <tr>\n",
              "      <th>1</th>\n",
              "      <td>1</td>\n",
              "      <td>123498</td>\n",
              "      <td>Abdul</td>\n",
              "      <td>Cheese</td>\n",
              "      <td>56</td>\n",
              "      <td>20</td>\n",
              "    </tr>\n",
              "    <tr>\n",
              "      <th>2</th>\n",
              "      <td>1</td>\n",
              "      <td>123999</td>\n",
              "      <td>Emma</td>\n",
              "      <td>Mushroom</td>\n",
              "      <td>42</td>\n",
              "      <td>65</td>\n",
              "    </tr>\n",
              "    <tr>\n",
              "      <th>3</th>\n",
              "      <td>1</td>\n",
              "      <td>123654</td>\n",
              "      <td>Pete</td>\n",
              "      <td>Pepperoni</td>\n",
              "      <td>47</td>\n",
              "      <td>83</td>\n",
              "    </tr>\n",
              "    <tr>\n",
              "      <th>4</th>\n",
              "      <td>1</td>\n",
              "      <td>123498</td>\n",
              "      <td>Abdul</td>\n",
              "      <td>Mushroom</td>\n",
              "      <td>54</td>\n",
              "      <td>58</td>\n",
              "    </tr>\n",
              "  </tbody>\n",
              "</table>\n",
              "</div>"
            ],
            "text/plain": [
              "   Shift  Clock Number  ... Production Run Time (Min) Products Produced (Units)\n",
              "0      1        123654  ...                        46                       107\n",
              "1      1        123498  ...                        56                        20\n",
              "2      1        123999  ...                        42                        65\n",
              "3      1        123654  ...                        47                        83\n",
              "4      1        123498  ...                        54                        58\n",
              "\n",
              "[5 rows x 6 columns]"
            ]
          },
          "metadata": {},
          "execution_count": 4
        }
      ]
    },
    {
      "cell_type": "code",
      "metadata": {
        "id": "P9I52WPp906h"
      },
      "source": [
        "pivot = df_all.groupby(['Shift']).mean()\n",
        "shift_productivity = pivot.loc[:,\"Production Run Time (Min)\":\"Products Produced (Units)\"]"
      ],
      "execution_count": 5,
      "outputs": []
    },
    {
      "cell_type": "code",
      "metadata": {
        "colab": {
          "base_uri": "https://localhost:8080/",
          "height": 173
        },
        "id": "gPRqbXJp-e_C",
        "outputId": "7e184b73-fd66-40e7-f7da-d38fd1567f07"
      },
      "source": [
        "shift_productivity"
      ],
      "execution_count": 6,
      "outputs": [
        {
          "output_type": "execute_result",
          "data": {
            "text/html": [
              "<div>\n",
              "<style scoped>\n",
              "    .dataframe tbody tr th:only-of-type {\n",
              "        vertical-align: middle;\n",
              "    }\n",
              "\n",
              "    .dataframe tbody tr th {\n",
              "        vertical-align: top;\n",
              "    }\n",
              "\n",
              "    .dataframe thead th {\n",
              "        text-align: right;\n",
              "    }\n",
              "</style>\n",
              "<table border=\"1\" class=\"dataframe\">\n",
              "  <thead>\n",
              "    <tr style=\"text-align: right;\">\n",
              "      <th></th>\n",
              "      <th>Production Run Time (Min)</th>\n",
              "      <th>Products Produced (Units)</th>\n",
              "    </tr>\n",
              "    <tr>\n",
              "      <th>Shift</th>\n",
              "      <th></th>\n",
              "      <th></th>\n",
              "    </tr>\n",
              "  </thead>\n",
              "  <tbody>\n",
              "    <tr>\n",
              "      <th>1</th>\n",
              "      <td>44.689655</td>\n",
              "      <td>54.482759</td>\n",
              "    </tr>\n",
              "    <tr>\n",
              "      <th>2</th>\n",
              "      <td>43.689655</td>\n",
              "      <td>80.103448</td>\n",
              "    </tr>\n",
              "    <tr>\n",
              "      <th>3</th>\n",
              "      <td>43.034483</td>\n",
              "      <td>128.448276</td>\n",
              "    </tr>\n",
              "  </tbody>\n",
              "</table>\n",
              "</div>"
            ],
            "text/plain": [
              "       Production Run Time (Min)  Products Produced (Units)\n",
              "Shift                                                      \n",
              "1                      44.689655                  54.482759\n",
              "2                      43.689655                  80.103448\n",
              "3                      43.034483                 128.448276"
            ]
          },
          "metadata": {},
          "execution_count": 6
        }
      ]
    },
    {
      "cell_type": "code",
      "metadata": {
        "colab": {
          "base_uri": "https://localhost:8080/",
          "height": 276
        },
        "id": "IPxp0D4r-0t_",
        "outputId": "fb8463a8-fef1-424e-ec62-38e0ca9e3cb2"
      },
      "source": [
        "shift_productivity.plot(kind=\"bar\")\n",
        "plt.show();"
      ],
      "execution_count": 8,
      "outputs": [
        {
          "output_type": "display_data",
          "data": {
            "image/png": "[encoded data removed]",
            "text/plain": [
              "<Figure size 432x288 with 1 Axes>"
            ]
          },
          "metadata": {
            "needs_background": "light"
          }
        }
      ]
    },
    {
      "cell_type": "code",
      "metadata": {
        "id": "hQk4H9Rk_Cx_"
      },
      "source": [
        "df_all.to_excel(\"productivity_average.xlsx\",index=False)\n"
      ],
      "execution_count": 9,
      "outputs": []
    },
    {
      "cell_type": "code",
      "metadata": {
        "id": "VxH1HoME_jqw"
      },
      "source": [
        ""
      ],
      "execution_count": null,
      "outputs": []
    }
  ]
}