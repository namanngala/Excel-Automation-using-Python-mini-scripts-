{
  "nbformat": 4,
  "nbformat_minor": 0,
  "metadata": {
    "colab": {
      "name": "workbooks_by_column_values.ipynb",
      "provenance": [],
      "collapsed_sections": []
    },
    "kernelspec": {
      "name": "python3",
      "display_name": "Python 3"
    },
    "language_info": {
      "name": "python"
    }
  },
  "cells": [
    {
      "cell_type": "markdown",
      "metadata": {
        "id": "O3u3pEv9datP"
      },
      "source": [
        "### **Separate Excel Data into Workbooks by Column Values using Python Pandas**"
      ]
    },
    {
      "cell_type": "code",
      "metadata": {
        "id": "p7EtTUBBdf23"
      },
      "source": [
        "import pandas as pd"
      ],
      "execution_count": 1,
      "outputs": []
    },
    {
      "cell_type": "code",
      "metadata": {
        "id": "9cRed_6ndvc8"
      },
      "source": [
        "excel_file_path = '/content/sales_data.xlsx'"
      ],
      "execution_count": 2,
      "outputs": []
    },
    {
      "cell_type": "code",
      "metadata": {
        "id": "yP0Iawsud230"
      },
      "source": [
        "df = pd.read_excel(excel_file_path)"
      ],
      "execution_count": 3,
      "outputs": []
    },
    {
      "cell_type": "code",
      "metadata": {
        "colab": {
          "base_uri": "https://localhost:8080/",
          "height": 204
        },
        "id": "bInN2jqCd6M5",
        "outputId": "b94b6ecb-889c-4ea5-9bca-fde1b747ac3d"
      },
      "source": [
        "df.head()"
      ],
      "execution_count": 6,
      "outputs": [
        {
          "output_type": "execute_result",
          "data": {
            "text/html": [
              "<div>\n",
              "<style scoped>\n",
              "    .dataframe tbody tr th:only-of-type {\n",
              "        vertical-align: middle;\n",
              "    }\n",
              "\n",
              "    .dataframe tbody tr th {\n",
              "        vertical-align: top;\n",
              "    }\n",
              "\n",
              "    .dataframe thead th {\n",
              "        text-align: right;\n",
              "    }\n",
              "</style>\n",
              "<table border=\"1\" class=\"dataframe\">\n",
              "  <thead>\n",
              "    <tr style=\"text-align: right;\">\n",
              "      <th></th>\n",
              "      <th>Unique ID</th>\n",
              "      <th>Order ID</th>\n",
              "      <th>Order Priority</th>\n",
              "      <th>Order Quantity</th>\n",
              "      <th>Sales</th>\n",
              "      <th>Customer Segment</th>\n",
              "      <th>Product Category</th>\n",
              "      <th>Product Sub-Category</th>\n",
              "    </tr>\n",
              "  </thead>\n",
              "  <tbody>\n",
              "    <tr>\n",
              "      <th>0</th>\n",
              "      <td>1025</td>\n",
              "      <td>13729</td>\n",
              "      <td>Not Specified</td>\n",
              "      <td>9</td>\n",
              "      <td>872.48</td>\n",
              "      <td>Home Office</td>\n",
              "      <td>Office Supplies</td>\n",
              "      <td>Storage &amp; Organization</td>\n",
              "    </tr>\n",
              "    <tr>\n",
              "      <th>1</th>\n",
              "      <td>1045</td>\n",
              "      <td>28774</td>\n",
              "      <td>High</td>\n",
              "      <td>32</td>\n",
              "      <td>180.36</td>\n",
              "      <td>Small Business</td>\n",
              "      <td>Office Supplies</td>\n",
              "      <td>Storage &amp; Organization</td>\n",
              "    </tr>\n",
              "    <tr>\n",
              "      <th>2</th>\n",
              "      <td>1065</td>\n",
              "      <td>44069</td>\n",
              "      <td>Critical</td>\n",
              "      <td>16</td>\n",
              "      <td>137.63</td>\n",
              "      <td>Consumer</td>\n",
              "      <td>Office Supplies</td>\n",
              "      <td>Paper</td>\n",
              "    </tr>\n",
              "    <tr>\n",
              "      <th>3</th>\n",
              "      <td>1085</td>\n",
              "      <td>37537</td>\n",
              "      <td>Low</td>\n",
              "      <td>4</td>\n",
              "      <td>1239.06</td>\n",
              "      <td>Corporate</td>\n",
              "      <td>Furniture</td>\n",
              "      <td>Chairs &amp; Chairmats</td>\n",
              "    </tr>\n",
              "    <tr>\n",
              "      <th>4</th>\n",
              "      <td>1090</td>\n",
              "      <td>37537</td>\n",
              "      <td>Low</td>\n",
              "      <td>43</td>\n",
              "      <td>4083.19</td>\n",
              "      <td>Corporate</td>\n",
              "      <td>Furniture</td>\n",
              "      <td>Chairs &amp; Chairmats</td>\n",
              "    </tr>\n",
              "  </tbody>\n",
              "</table>\n",
              "</div>"
            ],
            "text/plain": [
              "   Unique ID  Order ID  ... Product Category    Product Sub-Category\n",
              "0       1025     13729  ...  Office Supplies  Storage & Organization\n",
              "1       1045     28774  ...  Office Supplies  Storage & Organization\n",
              "2       1065     44069  ...  Office Supplies                   Paper\n",
              "3       1085     37537  ...        Furniture      Chairs & Chairmats\n",
              "4       1090     37537  ...        Furniture      Chairs & Chairmats\n",
              "\n",
              "[5 rows x 8 columns]"
            ]
          },
          "metadata": {},
          "execution_count": 6
        }
      ]
    },
    {
      "cell_type": "code",
      "metadata": {
        "id": "MbjuWXR1d-NT"
      },
      "source": [
        "# Taking the column name to be separated by\n",
        "column_name = 'Product Category'"
      ],
      "execution_count": 7,
      "outputs": []
    },
    {
      "cell_type": "code",
      "metadata": {
        "id": "e7onXmjteU9k"
      },
      "source": [
        "split_values = df[column_name].unique()\n",
        "#print(split_values)"
      ],
      "execution_count": 11,
      "outputs": []
    },
    {
      "cell_type": "code",
      "metadata": {
        "id": "vpcBdGLieWgs"
      },
      "source": [
        "for value in split_values:\n",
        "  df1 = df[df[column_name]==value]\n",
        "  output_file_name = column_name + \"_\" + str(value) + \".xlsx\"\n",
        "  df1.to_excel(output_file_name, index = False)"
      ],
      "execution_count": 12,
      "outputs": []
    },
    {
      "cell_type": "code",
      "metadata": {
        "id": "FzQIlQyUf3P9"
      },
      "source": [
        ""
      ],
      "execution_count": null,
      "outputs": []
    }
  ]
}